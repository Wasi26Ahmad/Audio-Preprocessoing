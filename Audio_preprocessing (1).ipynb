{
  "nbformat": 4,
  "nbformat_minor": 0,
  "metadata": {
    "colab": {
      "provenance": []
    },
    "kernelspec": {
      "name": "python3",
      "display_name": "Python 3"
    },
    "language_info": {
      "name": "python"
    }
  },
  "cells": [
    {
      "cell_type": "code",
      "execution_count": null,
      "metadata": {
        "id": "LbI6Ja1BQvpm"
      },
      "outputs": [],
      "source": []
    },
    {
      "cell_type": "code",
      "execution_count": 3,
      "metadata": {
        "id": "18843ebe"
      },
      "outputs": [],
      "source": [
        "import librosa\n",
        "import librosa.display\n",
        "import os\n",
        "import pandas as pd\n",
        "from tqdm import tqdm\n",
        "import numpy as np\n",
        "from sklearn.preprocessing import LabelEncoder\n",
        "from sklearn.model_selection import train_test_split"
      ]
    },
    {
      "cell_type": "code",
      "source": [
        "dataset_path = r'Insert your dataset path'"
      ],
      "metadata": {
        "id": "2rfWEXSsQ1FG"
      },
      "execution_count": 2,
      "outputs": []
    },
    {
      "cell_type": "code",
      "source": [
        "#Assuming you are using a metadata\n",
        "metadata = pd.read_csv('Insert your metadata path')"
      ],
      "metadata": {
        "id": "O3F7kIhgRc6q"
      },
      "execution_count": 9,
      "outputs": []
    },
    {
      "cell_type": "code",
      "source": [
        "extracted_features = []"
      ],
      "metadata": {
        "id": "cAkho4ppRl0b"
      },
      "execution_count": 5,
      "outputs": []
    },
    {
      "cell_type": "code",
      "execution_count": 6,
      "metadata": {
        "id": "ba577b85"
      },
      "outputs": [],
      "source": [
        "#funcntion for Extracting mel-spectogram features from  all the data, play around with the n_mfcc values\n",
        "def features_extractor(file):\n",
        "    audio, sample_rate = librosa.load(file_name)\n",
        "    mfccs_features = librosa.feature.mfcc(y=audio, sr=sample_rate, n_mfcc=40)\n",
        "    mfccs_scaled_features = np.mean(mfccs_features.T,axis=0)\n",
        "\n",
        "    return mfccs_scaled_features"
      ]
    },
    {
      "cell_type": "code",
      "execution_count": null,
      "metadata": {
        "colab": {
          "base_uri": "https://localhost:8080/"
        },
        "id": "84167fbd",
        "outputId": "3e50dc86-fe1d-43ae-ac8e-688a44f47f17"
      },
      "outputs": [
        {
          "output_type": "stream",
          "name": "stderr",
          "text": [
            "278it [06:57,  1.50s/it]\n"
          ]
        }
      ],
      "source": [
        "#Extracting mel-spectogram features from  all the data\n",
        "for index_num,row in tqdm(metadata.iterrows()):\n",
        "    file_name = os.path.join(os.path.abspath(dataset_path),'folder'+str(row[\"folder\"])+'/',str(row[\"filename\"]))\n",
        "    final_class_labels=row[\"sentiment\"]\n",
        "    data=features_extractor(file_name)\n",
        "    extracted_features.append([data,final_class_labels])"
      ]
    },
    {
      "cell_type": "code",
      "source": [
        "#Data Frame creation\n",
        "X=np.array(extracted_dataframe['feature'].tolist())\n",
        "y=np.array(extracted_dataframe['sentiment'].tolist())"
      ],
      "metadata": {
        "id": "k4qLf8_GRsFC"
      },
      "execution_count": null,
      "outputs": []
    },
    {
      "cell_type": "code",
      "source": [
        "#Use this cell only if your model requires a 3D input ex-LSTM etc. Here my X shape was (278,40) so I reshaped it to (278,40,1)\n",
        "X.reshape(278,40,1)"
      ],
      "metadata": {
        "id": "wP13nRco9m0w"
      },
      "execution_count": null,
      "outputs": []
    },
    {
      "cell_type": "code",
      "source": [
        "#Not necessary if using for a binary classification\n",
        "labelencoder=LabelEncoder()\n",
        "y=to_categorical(labelencoder.fit_transform(y))"
      ],
      "metadata": {
        "id": "gFHgkjawRv4z"
      },
      "execution_count": null,
      "outputs": []
    },
    {
      "cell_type": "code",
      "source": [
        "X_train,X_test,y_train,y_test=train_test_split(X,y,test_size=0.05, random_state=0)"
      ],
      "metadata": {
        "id": "5uzFvIPoSFPq"
      },
      "execution_count": null,
      "outputs": []
    },
    {
      "cell_type": "code",
      "source": [
        "num_labels=y.shape[1]"
      ],
      "metadata": {
        "id": "ixDqXU9oSLL0"
      },
      "execution_count": null,
      "outputs": []
    }
  ]
}